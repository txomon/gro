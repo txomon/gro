{
 "metadata": {
  "name": "",
  "signature": "sha256:39786dabbc0db84407d033ab43c0457b25588e8e18dae37239f0bc32a11316f7"
 },
 "nbformat": 3,
 "nbformat_minor": 0,
 "worksheets": [
  {
   "cells": [
    {
     "cell_type": "code",
     "collapsed": false,
     "input": [
      "from __future__ import unicode_literals\n",
      "import os\n",
      "import gro\n",
      "from gro.connection import GroConnection"
     ],
     "language": "python",
     "metadata": {},
     "outputs": []
    },
    {
     "cell_type": "heading",
     "level": 1,
     "metadata": {},
     "source": [
      "Low level requests"
     ]
    },
    {
     "cell_type": "code",
     "collapsed": false,
     "input": [
      "conn = GroConnection(os.environ['GS_KEY'], os.environ['GS_SECRET'])\n",
      "conn.request('pingService')"
     ],
     "language": "python",
     "metadata": {},
     "outputs": []
    }
   ],
   "metadata": {}
  }
 ]
}