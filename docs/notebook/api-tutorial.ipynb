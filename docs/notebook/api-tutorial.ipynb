{
 "metadata": {
  "name": "",
  "signature": "sha256:57e0e7023859615f5e55beccb9e942dd80ed02aa74f1b24fa91b17e30ebb8a40"
 },
 "nbformat": 3,
 "nbformat_minor": 0,
 "worksheets": [
  {
   "cells": [
    {
     "cell_type": "code",
     "collapsed": false,
     "input": [
      "from __future__ import unicode_literals\n",
      "import os\n",
      "import gro\n",
      "from gro.connection import Connection"
     ],
     "language": "python",
     "metadata": {},
     "outputs": [],
     "prompt_number": 1
    },
    {
     "cell_type": "heading",
     "level": 1,
     "metadata": {},
     "source": [
      "Low level requests"
     ]
    },
    {
     "cell_type": "code",
     "collapsed": false,
     "input": [
      "conn = Connection(os.environ['GS_KEY'].decode(), os.environ['GS_SECRET'].decode())\n",
      "#conn.protocol='http'\n",
      "conn.request('pingService')\n",
      "conn.create_session()"
     ],
     "language": "python",
     "metadata": {},
     "outputs": [],
     "prompt_number": 2
    },
    {
     "cell_type": "code",
     "collapsed": true,
     "input": [
      "conn.sessions"
     ],
     "language": "python",
     "metadata": {},
     "outputs": [
      {
       "metadata": {},
       "output_type": "pyout",
       "prompt_number": 3,
       "text": [
        "{u'header': {u'hostname': u'RHL110'},\n",
        " u'result': {u'sessionID': u'318078597e583300d5e59872ae51dcec',\n",
        "  u'success': True}}"
       ]
      }
     ],
     "prompt_number": 3
    },
    {
     "cell_type": "code",
     "collapsed": false,
     "input": [],
     "language": "python",
     "metadata": {},
     "outputs": []
    }
   ],
   "metadata": {}
  }
 ]
}